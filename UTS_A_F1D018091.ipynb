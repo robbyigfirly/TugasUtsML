{
 "cells": [
  {
   "cell_type": "markdown",
   "metadata": {},
   "source": [
    "# Import Library"
   ]
  },
  {
   "cell_type": "code",
   "execution_count": 1,
   "metadata": {},
   "outputs": [],
   "source": [
    "import pandas as pd\n",
    "import numpy as np\n",
    "import matplotlib.pyplot as plt\n",
    "import seaborn as sns\n",
    "from sklearn.linear_model import LinearRegression, LogisticRegression\n",
    "from sklearn.model_selection import train_test_split\n",
    "from sklearn.preprocessing import StandardScaler\n",
    "from sklearn.metrics import confusion_matrix, precision_recall_fscore_support"
   ]
  },
  {
   "cell_type": "markdown",
   "metadata": {},
   "source": [
    "# Load Dataset & Explore"
   ]
  },
  {
   "cell_type": "code",
   "execution_count": 2,
   "metadata": {},
   "outputs": [
    {
     "data": {
      "text/html": [
       "<div>\n",
       "<style scoped>\n",
       "    .dataframe tbody tr th:only-of-type {\n",
       "        vertical-align: middle;\n",
       "    }\n",
       "\n",
       "    .dataframe tbody tr th {\n",
       "        vertical-align: top;\n",
       "    }\n",
       "\n",
       "    .dataframe thead th {\n",
       "        text-align: right;\n",
       "    }\n",
       "</style>\n",
       "<table border=\"1\" class=\"dataframe\">\n",
       "  <thead>\n",
       "    <tr style=\"text-align: right;\">\n",
       "      <th></th>\n",
       "      <th>rental_id</th>\n",
       "      <th>rent</th>\n",
       "      <th>bedrooms</th>\n",
       "      <th>bathrooms</th>\n",
       "      <th>size_sqft</th>\n",
       "      <th>min_to_subway</th>\n",
       "      <th>floor</th>\n",
       "      <th>building_age_yrs</th>\n",
       "      <th>no_fee</th>\n",
       "      <th>has_roofdeck</th>\n",
       "      <th>has_washer_dryer</th>\n",
       "      <th>has_doorman</th>\n",
       "      <th>has_elevator</th>\n",
       "      <th>has_dishwasher</th>\n",
       "      <th>has_patio</th>\n",
       "      <th>has_gym</th>\n",
       "      <th>neighborhood</th>\n",
       "      <th>borough</th>\n",
       "    </tr>\n",
       "  </thead>\n",
       "  <tbody>\n",
       "    <tr>\n",
       "      <th>0</th>\n",
       "      <td>10234</td>\n",
       "      <td>3000</td>\n",
       "      <td>3.0</td>\n",
       "      <td>1</td>\n",
       "      <td>1000</td>\n",
       "      <td>4</td>\n",
       "      <td>1.0</td>\n",
       "      <td>106</td>\n",
       "      <td>0</td>\n",
       "      <td>0</td>\n",
       "      <td>0</td>\n",
       "      <td>0</td>\n",
       "      <td>0</td>\n",
       "      <td>0</td>\n",
       "      <td>0</td>\n",
       "      <td>0</td>\n",
       "      <td>Astoria</td>\n",
       "      <td>Queens</td>\n",
       "    </tr>\n",
       "    <tr>\n",
       "      <th>1</th>\n",
       "      <td>10524</td>\n",
       "      <td>1950</td>\n",
       "      <td>1.0</td>\n",
       "      <td>1</td>\n",
       "      <td>950</td>\n",
       "      <td>1</td>\n",
       "      <td>3.0</td>\n",
       "      <td>83</td>\n",
       "      <td>0</td>\n",
       "      <td>0</td>\n",
       "      <td>0</td>\n",
       "      <td>0</td>\n",
       "      <td>0</td>\n",
       "      <td>0</td>\n",
       "      <td>0</td>\n",
       "      <td>0</td>\n",
       "      <td>Forest Hills</td>\n",
       "      <td>Queens</td>\n",
       "    </tr>\n",
       "    <tr>\n",
       "      <th>2</th>\n",
       "      <td>5465</td>\n",
       "      <td>3500</td>\n",
       "      <td>1.0</td>\n",
       "      <td>1</td>\n",
       "      <td>996</td>\n",
       "      <td>9</td>\n",
       "      <td>7.0</td>\n",
       "      <td>3</td>\n",
       "      <td>1</td>\n",
       "      <td>0</td>\n",
       "      <td>0</td>\n",
       "      <td>0</td>\n",
       "      <td>0</td>\n",
       "      <td>0</td>\n",
       "      <td>0</td>\n",
       "      <td>0</td>\n",
       "      <td>Astoria</td>\n",
       "      <td>Queens</td>\n",
       "    </tr>\n",
       "    <tr>\n",
       "      <th>3</th>\n",
       "      <td>5259</td>\n",
       "      <td>1725</td>\n",
       "      <td>1.0</td>\n",
       "      <td>1</td>\n",
       "      <td>800</td>\n",
       "      <td>1</td>\n",
       "      <td>2.0</td>\n",
       "      <td>89</td>\n",
       "      <td>0</td>\n",
       "      <td>0</td>\n",
       "      <td>0</td>\n",
       "      <td>0</td>\n",
       "      <td>0</td>\n",
       "      <td>0</td>\n",
       "      <td>0</td>\n",
       "      <td>0</td>\n",
       "      <td>Astoria</td>\n",
       "      <td>Queens</td>\n",
       "    </tr>\n",
       "    <tr>\n",
       "      <th>4</th>\n",
       "      <td>9736</td>\n",
       "      <td>1700</td>\n",
       "      <td>1.0</td>\n",
       "      <td>1</td>\n",
       "      <td>730</td>\n",
       "      <td>10</td>\n",
       "      <td>3.0</td>\n",
       "      <td>7</td>\n",
       "      <td>0</td>\n",
       "      <td>0</td>\n",
       "      <td>0</td>\n",
       "      <td>0</td>\n",
       "      <td>0</td>\n",
       "      <td>0</td>\n",
       "      <td>0</td>\n",
       "      <td>0</td>\n",
       "      <td>Briarwood</td>\n",
       "      <td>Queens</td>\n",
       "    </tr>\n",
       "  </tbody>\n",
       "</table>\n",
       "</div>"
      ],
      "text/plain": [
       "   rental_id  rent  bedrooms  bathrooms  size_sqft  min_to_subway  floor  \\\n",
       "0      10234  3000       3.0          1       1000              4    1.0   \n",
       "1      10524  1950       1.0          1        950              1    3.0   \n",
       "2       5465  3500       1.0          1        996              9    7.0   \n",
       "3       5259  1725       1.0          1        800              1    2.0   \n",
       "4       9736  1700       1.0          1        730             10    3.0   \n",
       "\n",
       "   building_age_yrs  no_fee  has_roofdeck  has_washer_dryer  has_doorman  \\\n",
       "0               106       0             0                 0            0   \n",
       "1                83       0             0                 0            0   \n",
       "2                 3       1             0                 0            0   \n",
       "3                89       0             0                 0            0   \n",
       "4                 7       0             0                 0            0   \n",
       "\n",
       "   has_elevator  has_dishwasher  has_patio  has_gym  neighborhood borough  \n",
       "0             0               0          0        0       Astoria  Queens  \n",
       "1             0               0          0        0  Forest Hills  Queens  \n",
       "2             0               0          0        0       Astoria  Queens  \n",
       "3             0               0          0        0       Astoria  Queens  \n",
       "4             0               0          0        0     Briarwood  Queens  "
      ]
     },
     "execution_count": 2,
     "metadata": {},
     "output_type": "execute_result"
    }
   ],
   "source": [
    "# load dataset\n",
    "df = pd.read_csv('https://raw.githubusercontent.com/Codecademy/datasets/master/streeteasy/queens.csv')\n",
    "\n",
    "df.head()"
   ]
  },
  {
   "cell_type": "code",
   "execution_count": 3,
   "metadata": {},
   "outputs": [
    {
     "data": {
      "text/html": [
       "<div>\n",
       "<style scoped>\n",
       "    .dataframe tbody tr th:only-of-type {\n",
       "        vertical-align: middle;\n",
       "    }\n",
       "\n",
       "    .dataframe tbody tr th {\n",
       "        vertical-align: top;\n",
       "    }\n",
       "\n",
       "    .dataframe thead th {\n",
       "        text-align: right;\n",
       "    }\n",
       "</style>\n",
       "<table border=\"1\" class=\"dataframe\">\n",
       "  <thead>\n",
       "    <tr style=\"text-align: right;\">\n",
       "      <th></th>\n",
       "      <th>rent</th>\n",
       "      <th>bedrooms</th>\n",
       "      <th>bathrooms</th>\n",
       "      <th>size_sqft</th>\n",
       "      <th>min_to_subway</th>\n",
       "      <th>floor</th>\n",
       "      <th>building_age_yrs</th>\n",
       "      <th>no_fee</th>\n",
       "      <th>has_roofdeck</th>\n",
       "      <th>has_washer_dryer</th>\n",
       "      <th>has_doorman</th>\n",
       "      <th>has_elevator</th>\n",
       "      <th>has_dishwasher</th>\n",
       "      <th>has_patio</th>\n",
       "      <th>has_gym</th>\n",
       "    </tr>\n",
       "  </thead>\n",
       "  <tbody>\n",
       "    <tr>\n",
       "      <th>0</th>\n",
       "      <td>3000</td>\n",
       "      <td>3.0</td>\n",
       "      <td>1</td>\n",
       "      <td>1000</td>\n",
       "      <td>4</td>\n",
       "      <td>1.0</td>\n",
       "      <td>106</td>\n",
       "      <td>0</td>\n",
       "      <td>0</td>\n",
       "      <td>0</td>\n",
       "      <td>0</td>\n",
       "      <td>0</td>\n",
       "      <td>0</td>\n",
       "      <td>0</td>\n",
       "      <td>0</td>\n",
       "    </tr>\n",
       "    <tr>\n",
       "      <th>1</th>\n",
       "      <td>1950</td>\n",
       "      <td>1.0</td>\n",
       "      <td>1</td>\n",
       "      <td>950</td>\n",
       "      <td>1</td>\n",
       "      <td>3.0</td>\n",
       "      <td>83</td>\n",
       "      <td>0</td>\n",
       "      <td>0</td>\n",
       "      <td>0</td>\n",
       "      <td>0</td>\n",
       "      <td>0</td>\n",
       "      <td>0</td>\n",
       "      <td>0</td>\n",
       "      <td>0</td>\n",
       "    </tr>\n",
       "    <tr>\n",
       "      <th>2</th>\n",
       "      <td>3500</td>\n",
       "      <td>1.0</td>\n",
       "      <td>1</td>\n",
       "      <td>996</td>\n",
       "      <td>9</td>\n",
       "      <td>7.0</td>\n",
       "      <td>3</td>\n",
       "      <td>1</td>\n",
       "      <td>0</td>\n",
       "      <td>0</td>\n",
       "      <td>0</td>\n",
       "      <td>0</td>\n",
       "      <td>0</td>\n",
       "      <td>0</td>\n",
       "      <td>0</td>\n",
       "    </tr>\n",
       "    <tr>\n",
       "      <th>3</th>\n",
       "      <td>1725</td>\n",
       "      <td>1.0</td>\n",
       "      <td>1</td>\n",
       "      <td>800</td>\n",
       "      <td>1</td>\n",
       "      <td>2.0</td>\n",
       "      <td>89</td>\n",
       "      <td>0</td>\n",
       "      <td>0</td>\n",
       "      <td>0</td>\n",
       "      <td>0</td>\n",
       "      <td>0</td>\n",
       "      <td>0</td>\n",
       "      <td>0</td>\n",
       "      <td>0</td>\n",
       "    </tr>\n",
       "    <tr>\n",
       "      <th>4</th>\n",
       "      <td>1700</td>\n",
       "      <td>1.0</td>\n",
       "      <td>1</td>\n",
       "      <td>730</td>\n",
       "      <td>10</td>\n",
       "      <td>3.0</td>\n",
       "      <td>7</td>\n",
       "      <td>0</td>\n",
       "      <td>0</td>\n",
       "      <td>0</td>\n",
       "      <td>0</td>\n",
       "      <td>0</td>\n",
       "      <td>0</td>\n",
       "      <td>0</td>\n",
       "      <td>0</td>\n",
       "    </tr>\n",
       "  </tbody>\n",
       "</table>\n",
       "</div>"
      ],
      "text/plain": [
       "   rent  bedrooms  bathrooms  size_sqft  min_to_subway  floor  \\\n",
       "0  3000       3.0          1       1000              4    1.0   \n",
       "1  1950       1.0          1        950              1    3.0   \n",
       "2  3500       1.0          1        996              9    7.0   \n",
       "3  1725       1.0          1        800              1    2.0   \n",
       "4  1700       1.0          1        730             10    3.0   \n",
       "\n",
       "   building_age_yrs  no_fee  has_roofdeck  has_washer_dryer  has_doorman  \\\n",
       "0               106       0             0                 0            0   \n",
       "1                83       0             0                 0            0   \n",
       "2                 3       1             0                 0            0   \n",
       "3                89       0             0                 0            0   \n",
       "4                 7       0             0                 0            0   \n",
       "\n",
       "   has_elevator  has_dishwasher  has_patio  has_gym  \n",
       "0             0               0          0        0  \n",
       "1             0               0          0        0  \n",
       "2             0               0          0        0  \n",
       "3             0               0          0        0  \n",
       "4             0               0          0        0  "
      ]
     },
     "execution_count": 3,
     "metadata": {},
     "output_type": "execute_result"
    }
   ],
   "source": [
    "# hilangin kolom/atribut rental_id, neighborhood, dan borough\n",
    "df = df.iloc[:, 1:-2]\n",
    "\n",
    "df.head()"
   ]
  },
  {
   "cell_type": "code",
   "execution_count": 4,
   "metadata": {},
   "outputs": [
    {
     "data": {
      "text/plain": [
       "(448, 15)"
      ]
     },
     "execution_count": 4,
     "metadata": {},
     "output_type": "execute_result"
    }
   ],
   "source": [
    "# liat ukuran data\n",
    "df.shape"
   ]
  },
  {
   "cell_type": "code",
   "execution_count": 5,
   "metadata": {},
   "outputs": [
    {
     "name": "stdout",
     "output_type": "stream",
     "text": [
      "<class 'pandas.core.frame.DataFrame'>\n",
      "RangeIndex: 448 entries, 0 to 447\n",
      "Data columns (total 15 columns):\n",
      " #   Column            Non-Null Count  Dtype  \n",
      "---  ------            --------------  -----  \n",
      " 0   rent              448 non-null    int64  \n",
      " 1   bedrooms          448 non-null    float64\n",
      " 2   bathrooms         448 non-null    int64  \n",
      " 3   size_sqft         448 non-null    int64  \n",
      " 4   min_to_subway     448 non-null    int64  \n",
      " 5   floor             448 non-null    float64\n",
      " 6   building_age_yrs  448 non-null    int64  \n",
      " 7   no_fee            448 non-null    int64  \n",
      " 8   has_roofdeck      448 non-null    int64  \n",
      " 9   has_washer_dryer  448 non-null    int64  \n",
      " 10  has_doorman       448 non-null    int64  \n",
      " 11  has_elevator      448 non-null    int64  \n",
      " 12  has_dishwasher    448 non-null    int64  \n",
      " 13  has_patio         448 non-null    int64  \n",
      " 14  has_gym           448 non-null    int64  \n",
      "dtypes: float64(2), int64(13)\n",
      "memory usage: 52.6 KB\n"
     ]
    }
   ],
   "source": [
    "# liat informasi data baik tipe data dan nilai null\n",
    "df.info()"
   ]
  },
  {
   "cell_type": "code",
   "execution_count": 6,
   "metadata": {},
   "outputs": [
    {
     "data": {
      "text/plain": [
       "False    436\n",
       "True      12\n",
       "dtype: int64"
      ]
     },
     "execution_count": 6,
     "metadata": {},
     "output_type": "execute_result"
    }
   ],
   "source": [
    "# cek data kembar\n",
    "df.duplicated().value_counts()"
   ]
  },
  {
   "cell_type": "code",
   "execution_count": 7,
   "metadata": {},
   "outputs": [
    {
     "data": {
      "text/plain": [
       "False    436\n",
       "dtype: int64"
      ]
     },
     "execution_count": 7,
     "metadata": {},
     "output_type": "execute_result"
    }
   ],
   "source": [
    "# hapus data kembar\n",
    "df = df.drop_duplicates()\n",
    "\n",
    "df.duplicated().value_counts()"
   ]
  },
  {
   "cell_type": "code",
   "execution_count": 8,
   "metadata": {},
   "outputs": [
    {
     "data": {
      "text/plain": [
       "<AxesSubplot:ylabel='rent'>"
      ]
     },
     "execution_count": 8,
     "metadata": {},
     "output_type": "execute_result"
    },
    {
     "data": {
      "image/png": "[encoded data removed]",
      "text/plain": [
       "<Figure size 432x288 with 1 Axes>"
      ]
     },
     "metadata": {
      "needs_background": "light"
     },
     "output_type": "display_data"
    }
   ],
   "source": [
    "# cek outlier pada variabel dependen\n",
    "sns.boxplot(data=df, y='rent')"
   ]
  },
  {
   "cell_type": "code",
   "execution_count": 9,
   "metadata": {},
   "outputs": [],
   "source": [
    "# coba hapus outlier\n",
    "q1, q3 = df.rent.quantile(0.25), df.rent.quantile(0.75)\n",
    "iqr = q3-q1\n",
    "\n",
    "df = df[df.rent < (q3 + (1.5*iqr))]"
   ]
  },
  {
   "cell_type": "code",
   "execution_count": 10,
   "metadata": {},
   "outputs": [
    {
     "data": {
      "text/plain": [
       "<AxesSubplot:ylabel='rent'>"
      ]
     },
     "execution_count": 10,
     "metadata": {},
     "output_type": "execute_result"
    },
    {
     "data": {
      "image/png": "[encoded data removed]",
      "text/plain": [
       "<Figure size 432x288 with 1 Axes>"
      ]
     },
     "metadata": {
      "needs_background": "light"
     },
     "output_type": "display_data"
    }
   ],
   "source": [
    "# liat masih ga ada outlier dikit, tapi ga jauh jadi biarin aja lanjutt\n",
    "sns.boxplot(data=df, y='rent')"
   ]
  },
  {
   "cell_type": "code",
   "execution_count": 11,
   "metadata": {},
   "outputs": [
    {
     "data": {
      "text/plain": [
       "(423, 15)"
      ]
     },
     "execution_count": 11,
     "metadata": {},
     "output_type": "execute_result"
    }
   ],
   "source": [
    "# liat ukuran data sesudah hilangin outlier\n",
    "df.shape"
   ]
  },
  {
   "cell_type": "code",
   "execution_count": 12,
   "metadata": {},
   "outputs": [
    {
     "data": {
      "text/html": [
       "<div>\n",
       "<style scoped>\n",
       "    .dataframe tbody tr th:only-of-type {\n",
       "        vertical-align: middle;\n",
       "    }\n",
       "\n",
       "    .dataframe tbody tr th {\n",
       "        vertical-align: top;\n",
       "    }\n",
       "\n",
       "    .dataframe thead th {\n",
       "        text-align: right;\n",
       "    }\n",
       "</style>\n",
       "<table border=\"1\" class=\"dataframe\">\n",
       "  <thead>\n",
       "    <tr style=\"text-align: right;\">\n",
       "      <th></th>\n",
       "      <th>rent</th>\n",
       "      <th>bedrooms</th>\n",
       "      <th>bathrooms</th>\n",
       "      <th>size_sqft</th>\n",
       "      <th>min_to_subway</th>\n",
       "      <th>floor</th>\n",
       "      <th>building_age_yrs</th>\n",
       "      <th>no_fee</th>\n",
       "      <th>has_roofdeck</th>\n",
       "      <th>has_washer_dryer</th>\n",
       "      <th>has_doorman</th>\n",
       "      <th>has_elevator</th>\n",
       "      <th>has_dishwasher</th>\n",
       "      <th>has_patio</th>\n",
       "      <th>has_gym</th>\n",
       "    </tr>\n",
       "  </thead>\n",
       "  <tbody>\n",
       "    <tr>\n",
       "      <th>rent</th>\n",
       "      <td>1.000000</td>\n",
       "      <td>0.460087</td>\n",
       "      <td>0.443499</td>\n",
       "      <td>0.484346</td>\n",
       "      <td>-0.048316</td>\n",
       "      <td>0.341166</td>\n",
       "      <td>-0.412962</td>\n",
       "      <td>0.283589</td>\n",
       "      <td>0.073822</td>\n",
       "      <td>0.007668</td>\n",
       "      <td>0.092964</td>\n",
       "      <td>0.173555</td>\n",
       "      <td>0.079000</td>\n",
       "      <td>0.048606</td>\n",
       "      <td>0.120734</td>\n",
       "    </tr>\n",
       "    <tr>\n",
       "      <th>bedrooms</th>\n",
       "      <td>0.460087</td>\n",
       "      <td>1.000000</td>\n",
       "      <td>0.486019</td>\n",
       "      <td>0.750255</td>\n",
       "      <td>0.039290</td>\n",
       "      <td>-0.139543</td>\n",
       "      <td>0.183758</td>\n",
       "      <td>-0.132536</td>\n",
       "      <td>-0.104750</td>\n",
       "      <td>-0.086808</td>\n",
       "      <td>-0.055065</td>\n",
       "      <td>-0.040254</td>\n",
       "      <td>-0.063695</td>\n",
       "      <td>-0.018053</td>\n",
       "      <td>-0.042581</td>\n",
       "    </tr>\n",
       "    <tr>\n",
       "      <th>bathrooms</th>\n",
       "      <td>0.443499</td>\n",
       "      <td>0.486019</td>\n",
       "      <td>1.000000</td>\n",
       "      <td>0.506347</td>\n",
       "      <td>-0.058442</td>\n",
       "      <td>0.043434</td>\n",
       "      <td>-0.015523</td>\n",
       "      <td>-0.034400</td>\n",
       "      <td>0.043101</td>\n",
       "      <td>-0.056118</td>\n",
       "      <td>0.042626</td>\n",
       "      <td>0.064577</td>\n",
       "      <td>0.056396</td>\n",
       "      <td>0.029444</td>\n",
       "      <td>0.066793</td>\n",
       "    </tr>\n",
       "    <tr>\n",
       "      <th>size_sqft</th>\n",
       "      <td>0.484346</td>\n",
       "      <td>0.750255</td>\n",
       "      <td>0.506347</td>\n",
       "      <td>1.000000</td>\n",
       "      <td>-0.036280</td>\n",
       "      <td>-0.119203</td>\n",
       "      <td>0.086787</td>\n",
       "      <td>-0.131475</td>\n",
       "      <td>-0.023812</td>\n",
       "      <td>-0.012224</td>\n",
       "      <td>0.032019</td>\n",
       "      <td>0.105874</td>\n",
       "      <td>0.033289</td>\n",
       "      <td>0.041207</td>\n",
       "      <td>0.059914</td>\n",
       "    </tr>\n",
       "    <tr>\n",
       "      <th>min_to_subway</th>\n",
       "      <td>-0.048316</td>\n",
       "      <td>0.039290</td>\n",
       "      <td>-0.058442</td>\n",
       "      <td>-0.036280</td>\n",
       "      <td>1.000000</td>\n",
       "      <td>-0.016475</td>\n",
       "      <td>-0.098605</td>\n",
       "      <td>0.064130</td>\n",
       "      <td>-0.003401</td>\n",
       "      <td>-0.021947</td>\n",
       "      <td>0.170733</td>\n",
       "      <td>-0.028201</td>\n",
       "      <td>-0.050928</td>\n",
       "      <td>-0.019397</td>\n",
       "      <td>-0.013563</td>\n",
       "    </tr>\n",
       "    <tr>\n",
       "      <th>floor</th>\n",
       "      <td>0.341166</td>\n",
       "      <td>-0.139543</td>\n",
       "      <td>0.043434</td>\n",
       "      <td>-0.119203</td>\n",
       "      <td>-0.016475</td>\n",
       "      <td>1.000000</td>\n",
       "      <td>-0.370050</td>\n",
       "      <td>0.288898</td>\n",
       "      <td>0.057955</td>\n",
       "      <td>-0.016508</td>\n",
       "      <td>-0.035711</td>\n",
       "      <td>-0.003518</td>\n",
       "      <td>0.023369</td>\n",
       "      <td>-0.063163</td>\n",
       "      <td>-0.015734</td>\n",
       "    </tr>\n",
       "    <tr>\n",
       "      <th>building_age_yrs</th>\n",
       "      <td>-0.412962</td>\n",
       "      <td>0.183758</td>\n",
       "      <td>-0.015523</td>\n",
       "      <td>0.086787</td>\n",
       "      <td>-0.098605</td>\n",
       "      <td>-0.370050</td>\n",
       "      <td>1.000000</td>\n",
       "      <td>-0.353396</td>\n",
       "      <td>-0.077583</td>\n",
       "      <td>0.002972</td>\n",
       "      <td>-0.049130</td>\n",
       "      <td>-0.053276</td>\n",
       "      <td>-0.058228</td>\n",
       "      <td>-0.017671</td>\n",
       "      <td>-0.046305</td>\n",
       "    </tr>\n",
       "    <tr>\n",
       "      <th>no_fee</th>\n",
       "      <td>0.283589</td>\n",
       "      <td>-0.132536</td>\n",
       "      <td>-0.034400</td>\n",
       "      <td>-0.131475</td>\n",
       "      <td>0.064130</td>\n",
       "      <td>0.288898</td>\n",
       "      <td>-0.353396</td>\n",
       "      <td>1.000000</td>\n",
       "      <td>0.095687</td>\n",
       "      <td>0.002190</td>\n",
       "      <td>-0.012876</td>\n",
       "      <td>0.032072</td>\n",
       "      <td>-0.009023</td>\n",
       "      <td>-0.009510</td>\n",
       "      <td>0.043185</td>\n",
       "    </tr>\n",
       "    <tr>\n",
       "      <th>has_roofdeck</th>\n",
       "      <td>0.073822</td>\n",
       "      <td>-0.104750</td>\n",
       "      <td>0.043101</td>\n",
       "      <td>-0.023812</td>\n",
       "      <td>-0.003401</td>\n",
       "      <td>0.057955</td>\n",
       "      <td>-0.077583</td>\n",
       "      <td>0.095687</td>\n",
       "      <td>1.000000</td>\n",
       "      <td>0.329302</td>\n",
       "      <td>0.462796</td>\n",
       "      <td>0.622863</td>\n",
       "      <td>0.592727</td>\n",
       "      <td>0.284110</td>\n",
       "      <td>0.621224</td>\n",
       "    </tr>\n",
       "    <tr>\n",
       "      <th>has_washer_dryer</th>\n",
       "      <td>0.007668</td>\n",
       "      <td>-0.086808</td>\n",
       "      <td>-0.056118</td>\n",
       "      <td>-0.012224</td>\n",
       "      <td>-0.021947</td>\n",
       "      <td>-0.016508</td>\n",
       "      <td>0.002972</td>\n",
       "      <td>0.002190</td>\n",
       "      <td>0.329302</td>\n",
       "      <td>1.000000</td>\n",
       "      <td>0.392062</td>\n",
       "      <td>0.474481</td>\n",
       "      <td>0.512545</td>\n",
       "      <td>0.099934</td>\n",
       "      <td>0.425174</td>\n",
       "    </tr>\n",
       "    <tr>\n",
       "      <th>has_doorman</th>\n",
       "      <td>0.092964</td>\n",
       "      <td>-0.055065</td>\n",
       "      <td>0.042626</td>\n",
       "      <td>0.032019</td>\n",
       "      <td>0.170733</td>\n",
       "      <td>-0.035711</td>\n",
       "      <td>-0.049130</td>\n",
       "      <td>-0.012876</td>\n",
       "      <td>0.462796</td>\n",
       "      <td>0.392062</td>\n",
       "      <td>1.000000</td>\n",
       "      <td>0.760420</td>\n",
       "      <td>0.366253</td>\n",
       "      <td>0.165553</td>\n",
       "      <td>0.641943</td>\n",
       "    </tr>\n",
       "    <tr>\n",
       "      <th>has_elevator</th>\n",
       "      <td>0.173555</td>\n",
       "      <td>-0.040254</td>\n",
       "      <td>0.064577</td>\n",
       "      <td>0.105874</td>\n",
       "      <td>-0.028201</td>\n",
       "      <td>-0.003518</td>\n",
       "      <td>-0.053276</td>\n",
       "      <td>0.032072</td>\n",
       "      <td>0.622863</td>\n",
       "      <td>0.474481</td>\n",
       "      <td>0.760420</td>\n",
       "      <td>1.000000</td>\n",
       "      <td>0.514080</td>\n",
       "      <td>0.244835</td>\n",
       "      <td>0.745146</td>\n",
       "    </tr>\n",
       "    <tr>\n",
       "      <th>has_dishwasher</th>\n",
       "      <td>0.079000</td>\n",
       "      <td>-0.063695</td>\n",
       "      <td>0.056396</td>\n",
       "      <td>0.033289</td>\n",
       "      <td>-0.050928</td>\n",
       "      <td>0.023369</td>\n",
       "      <td>-0.058228</td>\n",
       "      <td>-0.009023</td>\n",
       "      <td>0.592727</td>\n",
       "      <td>0.512545</td>\n",
       "      <td>0.366253</td>\n",
       "      <td>0.514080</td>\n",
       "      <td>1.000000</td>\n",
       "      <td>0.327246</td>\n",
       "      <td>0.497897</td>\n",
       "    </tr>\n",
       "    <tr>\n",
       "      <th>has_patio</th>\n",
       "      <td>0.048606</td>\n",
       "      <td>-0.018053</td>\n",
       "      <td>0.029444</td>\n",
       "      <td>0.041207</td>\n",
       "      <td>-0.019397</td>\n",
       "      <td>-0.063163</td>\n",
       "      <td>-0.017671</td>\n",
       "      <td>-0.009510</td>\n",
       "      <td>0.284110</td>\n",
       "      <td>0.099934</td>\n",
       "      <td>0.165553</td>\n",
       "      <td>0.244835</td>\n",
       "      <td>0.327246</td>\n",
       "      <td>1.000000</td>\n",
       "      <td>0.250987</td>\n",
       "    </tr>\n",
       "    <tr>\n",
       "      <th>has_gym</th>\n",
       "      <td>0.120734</td>\n",
       "      <td>-0.042581</td>\n",
       "      <td>0.066793</td>\n",
       "      <td>0.059914</td>\n",
       "      <td>-0.013563</td>\n",
       "      <td>-0.015734</td>\n",
       "      <td>-0.046305</td>\n",
       "      <td>0.043185</td>\n",
       "      <td>0.621224</td>\n",
       "      <td>0.425174</td>\n",
       "      <td>0.641943</td>\n",
       "      <td>0.745146</td>\n",
       "      <td>0.497897</td>\n",
       "      <td>0.250987</td>\n",
       "      <td>1.000000</td>\n",
       "    </tr>\n",
       "  </tbody>\n",
       "</table>\n",
       "</div>"
      ],
      "text/plain": [
       "                      rent  bedrooms  bathrooms  size_sqft  min_to_subway  \\\n",
       "rent              1.000000  0.460087   0.443499   0.484346      -0.048316   \n",
       "bedrooms          0.460087  1.000000   0.486019   0.750255       0.039290   \n",
       "bathrooms         0.443499  0.486019   1.000000   0.506347      -0.058442   \n",
       "size_sqft         0.484346  0.750255   0.506347   1.000000      -0.036280   \n",
       "min_to_subway    -0.048316  0.039290  -0.058442  -0.036280       1.000000   \n",
       "floor             0.341166 -0.139543   0.043434  -0.119203      -0.016475   \n",
       "building_age_yrs -0.412962  0.183758  -0.015523   0.086787      -0.098605   \n",
       "no_fee            0.283589 -0.132536  -0.034400  -0.131475       0.064130   \n",
       "has_roofdeck      0.073822 -0.104750   0.043101  -0.023812      -0.003401   \n",
       "has_washer_dryer  0.007668 -0.086808  -0.056118  -0.012224      -0.021947   \n",
       "has_doorman       0.092964 -0.055065   0.042626   0.032019       0.170733   \n",
       "has_elevator      0.173555 -0.040254   0.064577   0.105874      -0.028201   \n",
       "has_dishwasher    0.079000 -0.063695   0.056396   0.033289      -0.050928   \n",
       "has_patio         0.048606 -0.018053   0.029444   0.041207      -0.019397   \n",
       "has_gym           0.120734 -0.042581   0.066793   0.059914      -0.013563   \n",
       "\n",
       "                     floor  building_age_yrs    no_fee  has_roofdeck  \\\n",
       "rent              0.341166         -0.412962  0.283589      0.073822   \n",
       "bedrooms         -0.139543          0.183758 -0.132536     -0.104750   \n",
       "bathrooms         0.043434         -0.015523 -0.034400      0.043101   \n",
       "size_sqft        -0.119203          0.086787 -0.131475     -0.023812   \n",
       "min_to_subway    -0.016475         -0.098605  0.064130     -0.003401   \n",
       "floor             1.000000         -0.370050  0.288898      0.057955   \n",
       "building_age_yrs -0.370050          1.000000 -0.353396     -0.077583   \n",
       "no_fee            0.288898         -0.353396  1.000000      0.095687   \n",
       "has_roofdeck      0.057955         -0.077583  0.095687      1.000000   \n",
       "has_washer_dryer -0.016508          0.002972  0.002190      0.329302   \n",
       "has_doorman      -0.035711         -0.049130 -0.012876      0.462796   \n",
       "has_elevator     -0.003518         -0.053276  0.032072      0.622863   \n",
       "has_dishwasher    0.023369         -0.058228 -0.009023      0.592727   \n",
       "has_patio        -0.063163         -0.017671 -0.009510      0.284110   \n",
       "has_gym          -0.015734         -0.046305  0.043185      0.621224   \n",
       "\n",
       "                  has_washer_dryer  has_doorman  has_elevator  has_dishwasher  \\\n",
       "rent                      0.007668     0.092964      0.173555        0.079000   \n",
       "bedrooms                 -0.086808    -0.055065     -0.040254       -0.063695   \n",
       "bathrooms                -0.056118     0.042626      0.064577        0.056396   \n",
       "size_sqft                -0.012224     0.032019      0.105874        0.033289   \n",
       "min_to_subway            -0.021947     0.170733     -0.028201       -0.050928   \n",
       "floor                    -0.016508    -0.035711     -0.003518        0.023369   \n",
       "building_age_yrs          0.002972    -0.049130     -0.053276       -0.058228   \n",
       "no_fee                    0.002190    -0.012876      0.032072       -0.009023   \n",
       "has_roofdeck              0.329302     0.462796      0.622863        0.592727   \n",
       "has_washer_dryer          1.000000     0.392062      0.474481        0.512545   \n",
       "has_doorman               0.392062     1.000000      0.760420        0.366253   \n",
       "has_elevator              0.474481     0.760420      1.000000        0.514080   \n",
       "has_dishwasher            0.512545     0.366253      0.514080        1.000000   \n",
       "has_patio                 0.099934     0.165553      0.244835        0.327246   \n",
       "has_gym                   0.425174     0.641943      0.745146        0.497897   \n",
       "\n",
       "                  has_patio   has_gym  \n",
       "rent               0.048606  0.120734  \n",
       "bedrooms          -0.018053 -0.042581  \n",
       "bathrooms          0.029444  0.066793  \n",
       "size_sqft          0.041207  0.059914  \n",
       "min_to_subway     -0.019397 -0.013563  \n",
       "floor             -0.063163 -0.015734  \n",
       "building_age_yrs  -0.017671 -0.046305  \n",
       "no_fee            -0.009510  0.043185  \n",
       "has_roofdeck       0.284110  0.621224  \n",
       "has_washer_dryer   0.099934  0.425174  \n",
       "has_doorman        0.165553  0.641943  \n",
       "has_elevator       0.244835  0.745146  \n",
       "has_dishwasher     0.327246  0.497897  \n",
       "has_patio          1.000000  0.250987  \n",
       "has_gym            0.250987  1.000000  "
      ]
     },
     "execution_count": 12,
     "metadata": {},
     "output_type": "execute_result"
    }
   ],
   "source": [
    "# cek korelasi pake tabel\n",
    "df.corr()"
   ]
  },
  {
   "cell_type": "code",
   "execution_count": 13,
   "metadata": {},
   "outputs": [
    {
     "data": {
      "text/plain": [
       "<AxesSubplot:>"
      ]
     },
     "execution_count": 13,
     "metadata": {},
     "output_type": "execute_result"
    },
    {
     "data": {
      "image/png": "[encoded data removed]",
      "text/plain": [
       "<Figure size 1440x1440 with 2 Axes>"
      ]
     },
     "metadata": {
      "needs_background": "light"
     },
     "output_type": "display_data"
    }
   ],
   "source": [
    "# cek korelasi pake visualisasi\n",
    "plt.figure(figsize=(20,20))\n",
    "sns.heatmap(df.corr(), annot=True, cmap='cubehelix', square=True, vmin=0, vmax=1)"
   ]
  },
  {
   "cell_type": "code",
   "execution_count": 14,
   "metadata": {},
   "outputs": [
    {
     "data": {
      "text/plain": [
       "[<matplotlib.lines.Line2D at 0x296c4636850>]"
      ]
     },
     "execution_count": 14,
     "metadata": {},
     "output_type": "execute_result"
    },
    {
     "data": {
      "image/png": "[encoded data removed]",
      "text/plain": [
       "<Figure size 432x288 with 1 Axes>"
      ]
     },
     "metadata": {
      "needs_background": "light"
     },
     "output_type": "display_data"
    }
   ],
   "source": [
    "# plotting koerlasi size_sqft sm rent\n",
    "plt.plot(df.size_sqft, df.rent, 'o')"
   ]
  },
  {
   "cell_type": "code",
   "execution_count": 15,
   "metadata": {},
   "outputs": [
    {
     "data": {
      "text/plain": [
       "[<matplotlib.lines.Line2D at 0x296c44b0ac0>]"
      ]
     },
     "execution_count": 15,
     "metadata": {},
     "output_type": "execute_result"
    },
    {
     "data": {
      "image/png": "[encoded data removed]",
      "text/plain": [
       "<Figure size 432x288 with 1 Axes>"
      ]
     },
     "metadata": {
      "needs_background": "light"
     },
     "output_type": "display_data"
    }
   ],
   "source": [
    "# plot korelasi bedrooms sm rent\n",
    "plt.plot(df.bedrooms, df.rent, 'o')"
   ]
  },
  {
   "cell_type": "markdown",
   "metadata": {},
   "source": [
    "# Linear Regression"
   ]
  },
  {
   "cell_type": "code",
   "execution_count": 16,
   "metadata": {},
   "outputs": [],
   "source": [
    "# pilih fitur sm label\n",
    "x = df.size_sqft.values.reshape(-1, 1)\n",
    "y = df.rent"
   ]
  },
  {
   "cell_type": "code",
   "execution_count": 17,
   "metadata": {},
   "outputs": [
    {
     "data": {
      "text/plain": [
       "LinearRegression()"
      ]
     },
     "execution_count": 17,
     "metadata": {},
     "output_type": "execute_result"
    }
   ],
   "source": [
    "# buat model dan latih\n",
    "regr = LinearRegression()\n",
    "regr.fit(x, y)"
   ]
  },
  {
   "cell_type": "code",
   "execution_count": 18,
   "metadata": {},
   "outputs": [
    {
     "data": {
      "text/plain": [
       "(array([1.43538329]), 1278.2385058962311)"
      ]
     },
     "execution_count": 18,
     "metadata": {},
     "output_type": "execute_result"
    }
   ],
   "source": [
    "# liat nilai slope sm intercept model\n",
    "regr.coef_, regr.intercept_"
   ]
  },
  {
   "cell_type": "code",
   "execution_count": 19,
   "metadata": {},
   "outputs": [],
   "source": [
    "# prediksi\n",
    "y_pred = regr.predict(x)"
   ]
  },
  {
   "cell_type": "code",
   "execution_count": 20,
   "metadata": {},
   "outputs": [
    {
     "data": {
      "image/png": "[encoded data removed]",
      "text/plain": [
       "<Figure size 432x288 with 1 Axes>"
      ]
     },
     "metadata": {
      "needs_background": "light"
     },
     "output_type": "display_data"
    }
   ],
   "source": [
    "# plot hasil sebenarnya dan prediksi\n",
    "plt.plot(x, y, 'o')\n",
    "plt.plot(x, y_pred)\n",
    "plt.show()"
   ]
  },
  {
   "cell_type": "markdown",
   "metadata": {},
   "source": [
    "## Evaluation\n",
    "\n",
    "### MSE"
   ]
  },
  {
   "cell_type": "code",
   "execution_count": 21,
   "metadata": {},
   "outputs": [
    {
     "data": {
      "text/plain": [
       "357922.8369077334"
      ]
     },
     "execution_count": 21,
     "metadata": {},
     "output_type": "execute_result"
    }
   ],
   "source": [
    "from sklearn.metrics import mean_squared_error\n",
    "mean_squared_error(y, y_pred)"
   ]
  },
  {
   "cell_type": "markdown",
   "metadata": {},
   "source": [
    "### MAE"
   ]
  },
  {
   "cell_type": "code",
   "execution_count": 22,
   "metadata": {},
   "outputs": [
    {
     "data": {
      "text/plain": [
       "502.2167002226193"
      ]
     },
     "execution_count": 22,
     "metadata": {},
     "output_type": "execute_result"
    }
   ],
   "source": [
    "from sklearn.metrics import mean_absolute_error\n",
    "mean_absolute_error(y, y_pred)"
   ]
  },
  {
   "cell_type": "markdown",
   "metadata": {},
   "source": [
    "### R² Score"
   ]
  },
  {
   "cell_type": "code",
   "execution_count": 23,
   "metadata": {},
   "outputs": [
    {
     "data": {
      "text/plain": [
       "0.23459147456741292"
      ]
     },
     "execution_count": 23,
     "metadata": {},
     "output_type": "execute_result"
    }
   ],
   "source": [
    "from sklearn.metrics import r2_score\n",
    "r2_score(y, y_pred)"
   ]
  },
  {
   "cell_type": "code",
   "execution_count": 24,
   "metadata": {},
   "outputs": [
    {
     "data": {
      "text/html": [
       "<div>\n",
       "<style scoped>\n",
       "    .dataframe tbody tr th:only-of-type {\n",
       "        vertical-align: middle;\n",
       "    }\n",
       "\n",
       "    .dataframe tbody tr th {\n",
       "        vertical-align: top;\n",
       "    }\n",
       "\n",
       "    .dataframe thead th {\n",
       "        text-align: right;\n",
       "    }\n",
       "</style>\n",
       "<table border=\"1\" class=\"dataframe\">\n",
       "  <thead>\n",
       "    <tr style=\"text-align: right;\">\n",
       "      <th></th>\n",
       "      <th>actual</th>\n",
       "      <th>predict</th>\n",
       "    </tr>\n",
       "  </thead>\n",
       "  <tbody>\n",
       "    <tr>\n",
       "      <th>0</th>\n",
       "      <td>3000</td>\n",
       "      <td>2714.0</td>\n",
       "    </tr>\n",
       "    <tr>\n",
       "      <th>1</th>\n",
       "      <td>1950</td>\n",
       "      <td>2642.0</td>\n",
       "    </tr>\n",
       "    <tr>\n",
       "      <th>2</th>\n",
       "      <td>3500</td>\n",
       "      <td>2708.0</td>\n",
       "    </tr>\n",
       "    <tr>\n",
       "      <th>3</th>\n",
       "      <td>1725</td>\n",
       "      <td>2427.0</td>\n",
       "    </tr>\n",
       "    <tr>\n",
       "      <th>4</th>\n",
       "      <td>1700</td>\n",
       "      <td>2326.0</td>\n",
       "    </tr>\n",
       "    <tr>\n",
       "      <th>5</th>\n",
       "      <td>2550</td>\n",
       "      <td>2714.0</td>\n",
       "    </tr>\n",
       "    <tr>\n",
       "      <th>6</th>\n",
       "      <td>2550</td>\n",
       "      <td>2830.0</td>\n",
       "    </tr>\n",
       "    <tr>\n",
       "      <th>7</th>\n",
       "      <td>3100</td>\n",
       "      <td>2408.0</td>\n",
       "    </tr>\n",
       "    <tr>\n",
       "      <th>8</th>\n",
       "      <td>1399</td>\n",
       "      <td>2111.0</td>\n",
       "    </tr>\n",
       "    <tr>\n",
       "      <th>9</th>\n",
       "      <td>2275</td>\n",
       "      <td>1969.0</td>\n",
       "    </tr>\n",
       "  </tbody>\n",
       "</table>\n",
       "</div>"
      ],
      "text/plain": [
       "   actual  predict\n",
       "0    3000   2714.0\n",
       "1    1950   2642.0\n",
       "2    3500   2708.0\n",
       "3    1725   2427.0\n",
       "4    1700   2326.0\n",
       "5    2550   2714.0\n",
       "6    2550   2830.0\n",
       "7    3100   2408.0\n",
       "8    1399   2111.0\n",
       "9    2275   1969.0"
      ]
     },
     "execution_count": 24,
     "metadata": {},
     "output_type": "execute_result"
    }
   ],
   "source": [
    "# bandingin nilai sebenarnya dan prediksi\n",
    "comp = pd.DataFrame({'actual':y,'predict':y_pred})\n",
    "comp.predict = round(comp.predict)\n",
    "comp.head(10)"
   ]
  },
  {
   "cell_type": "markdown",
   "metadata": {},
   "source": [
    "# Multiple Linear Regression"
   ]
  },
  {
   "cell_type": "code",
   "execution_count": 25,
   "metadata": {},
   "outputs": [],
   "source": [
    "# pilih fitur (lebih dari 1) dan labelnya\n",
    "x = df.iloc[:, 1:]\n",
    "y = df.iloc[:, 0]"
   ]
  },
  {
   "cell_type": "code",
   "execution_count": 26,
   "metadata": {},
   "outputs": [],
   "source": [
    "# bagi data training dan testing (20%)\n",
    "x_train, x_test, y_train, y_test = train_test_split(x, y, test_size=0.2, random_state=100)"
   ]
  },
  {
   "cell_type": "code",
   "execution_count": 27,
   "metadata": {},
   "outputs": [
    {
     "data": {
      "text/plain": [
       "LinearRegression()"
      ]
     },
     "execution_count": 27,
     "metadata": {},
     "output_type": "execute_result"
    }
   ],
   "source": [
    "# buat model dan latih\n",
    "mlr = LinearRegression()\n",
    "mlr.fit(x_train, y_train)"
   ]
  },
  {
   "cell_type": "code",
   "execution_count": 28,
   "metadata": {},
   "outputs": [],
   "source": [
    "#prediksi\n",
    "y_pred = mlr.predict(x_test)"
   ]
  },
  {
   "cell_type": "markdown",
   "metadata": {},
   "source": [
    "## Evaluation\n",
    "\n",
    "### MSE"
   ]
  },
  {
   "cell_type": "code",
   "execution_count": 29,
   "metadata": {},
   "outputs": [
    {
     "data": {
      "text/plain": [
       "184038.58442832637"
      ]
     },
     "execution_count": 29,
     "metadata": {},
     "output_type": "execute_result"
    }
   ],
   "source": [
    "from sklearn.metrics import mean_squared_error\n",
    "mean_squared_error(y_test, y_pred)"
   ]
  },
  {
   "cell_type": "markdown",
   "metadata": {},
   "source": [
    "### MAE"
   ]
  },
  {
   "cell_type": "code",
   "execution_count": 30,
   "metadata": {},
   "outputs": [
    {
     "data": {
      "text/plain": [
       "346.19761045755934"
      ]
     },
     "execution_count": 30,
     "metadata": {},
     "output_type": "execute_result"
    }
   ],
   "source": [
    "from sklearn.metrics import mean_absolute_error\n",
    "mean_absolute_error(y_test, y_pred)"
   ]
  },
  {
   "cell_type": "markdown",
   "metadata": {},
   "source": [
    "### R² Score"
   ]
  },
  {
   "cell_type": "code",
   "execution_count": 31,
   "metadata": {},
   "outputs": [
    {
     "name": "stdout",
     "output_type": "stream",
     "text": [
      "Train score: 0.6352135667563967\n",
      "Test score: 0.5541425632888715\n"
     ]
    }
   ],
   "source": [
    "print(f\"Train score: {mlr.score(x_train, y_train)}\")\n",
    "print(f\"Test score: {mlr.score(x_test, y_test)}\")"
   ]
  },
  {
   "cell_type": "code",
   "execution_count": 32,
   "metadata": {},
   "outputs": [
    {
     "data": {
      "text/html": [
       "<div>\n",
       "<style scoped>\n",
       "    .dataframe tbody tr th:only-of-type {\n",
       "        vertical-align: middle;\n",
       "    }\n",
       "\n",
       "    .dataframe tbody tr th {\n",
       "        vertical-align: top;\n",
       "    }\n",
       "\n",
       "    .dataframe thead th {\n",
       "        text-align: right;\n",
       "    }\n",
       "</style>\n",
       "<table border=\"1\" class=\"dataframe\">\n",
       "  <thead>\n",
       "    <tr style=\"text-align: right;\">\n",
       "      <th></th>\n",
       "      <th>actual</th>\n",
       "      <th>predict</th>\n",
       "    </tr>\n",
       "  </thead>\n",
       "  <tbody>\n",
       "    <tr>\n",
       "      <th>141</th>\n",
       "      <td>2650</td>\n",
       "      <td>2877.0</td>\n",
       "    </tr>\n",
       "    <tr>\n",
       "      <th>399</th>\n",
       "      <td>3500</td>\n",
       "      <td>4191.0</td>\n",
       "    </tr>\n",
       "    <tr>\n",
       "      <th>252</th>\n",
       "      <td>2250</td>\n",
       "      <td>2731.0</td>\n",
       "    </tr>\n",
       "    <tr>\n",
       "      <th>157</th>\n",
       "      <td>2600</td>\n",
       "      <td>3131.0</td>\n",
       "    </tr>\n",
       "    <tr>\n",
       "      <th>23</th>\n",
       "      <td>2350</td>\n",
       "      <td>2238.0</td>\n",
       "    </tr>\n",
       "    <tr>\n",
       "      <th>56</th>\n",
       "      <td>2550</td>\n",
       "      <td>2536.0</td>\n",
       "    </tr>\n",
       "    <tr>\n",
       "      <th>426</th>\n",
       "      <td>1800</td>\n",
       "      <td>2070.0</td>\n",
       "    </tr>\n",
       "    <tr>\n",
       "      <th>130</th>\n",
       "      <td>2400</td>\n",
       "      <td>2635.0</td>\n",
       "    </tr>\n",
       "    <tr>\n",
       "      <th>206</th>\n",
       "      <td>2100</td>\n",
       "      <td>2487.0</td>\n",
       "    </tr>\n",
       "    <tr>\n",
       "      <th>43</th>\n",
       "      <td>3450</td>\n",
       "      <td>3249.0</td>\n",
       "    </tr>\n",
       "  </tbody>\n",
       "</table>\n",
       "</div>"
      ],
      "text/plain": [
       "     actual  predict\n",
       "141    2650   2877.0\n",
       "399    3500   4191.0\n",
       "252    2250   2731.0\n",
       "157    2600   3131.0\n",
       "23     2350   2238.0\n",
       "56     2550   2536.0\n",
       "426    1800   2070.0\n",
       "130    2400   2635.0\n",
       "206    2100   2487.0\n",
       "43     3450   3249.0"
      ]
     },
     "execution_count": 32,
     "metadata": {},
     "output_type": "execute_result"
    }
   ],
   "source": [
    "# bandingin nilai sebenarnya dan prediksi\n",
    "comp = pd.DataFrame({'actual':y_test,'predict':y_pred})\n",
    "comp.predict = round(comp.predict)\n",
    "comp.head(10)"
   ]
  },
  {
   "cell_type": "markdown",
   "metadata": {},
   "source": [
    "# Logistic Regression"
   ]
  },
  {
   "cell_type": "code",
   "execution_count": 33,
   "metadata": {},
   "outputs": [
    {
     "data": {
      "text/html": [
       "<div>\n",
       "<style scoped>\n",
       "    .dataframe tbody tr th:only-of-type {\n",
       "        vertical-align: middle;\n",
       "    }\n",
       "\n",
       "    .dataframe tbody tr th {\n",
       "        vertical-align: top;\n",
       "    }\n",
       "\n",
       "    .dataframe thead th {\n",
       "        text-align: right;\n",
       "    }\n",
       "</style>\n",
       "<table border=\"1\" class=\"dataframe\">\n",
       "  <thead>\n",
       "    <tr style=\"text-align: right;\">\n",
       "      <th></th>\n",
       "      <th>rent</th>\n",
       "      <th>bedrooms</th>\n",
       "      <th>bathrooms</th>\n",
       "      <th>size_sqft</th>\n",
       "      <th>min_to_subway</th>\n",
       "      <th>floor</th>\n",
       "      <th>building_age_yrs</th>\n",
       "      <th>no_fee</th>\n",
       "      <th>has_roofdeck</th>\n",
       "      <th>has_washer_dryer</th>\n",
       "      <th>has_doorman</th>\n",
       "      <th>has_elevator</th>\n",
       "      <th>has_dishwasher</th>\n",
       "      <th>has_patio</th>\n",
       "      <th>has_gym</th>\n",
       "    </tr>\n",
       "  </thead>\n",
       "  <tbody>\n",
       "    <tr>\n",
       "      <th>0</th>\n",
       "      <td>3000</td>\n",
       "      <td>3.0</td>\n",
       "      <td>1</td>\n",
       "      <td>1000</td>\n",
       "      <td>4</td>\n",
       "      <td>1.0</td>\n",
       "      <td>106</td>\n",
       "      <td>0</td>\n",
       "      <td>0</td>\n",
       "      <td>0</td>\n",
       "      <td>0</td>\n",
       "      <td>0</td>\n",
       "      <td>0</td>\n",
       "      <td>0</td>\n",
       "      <td>0</td>\n",
       "    </tr>\n",
       "    <tr>\n",
       "      <th>1</th>\n",
       "      <td>1950</td>\n",
       "      <td>1.0</td>\n",
       "      <td>1</td>\n",
       "      <td>950</td>\n",
       "      <td>1</td>\n",
       "      <td>3.0</td>\n",
       "      <td>83</td>\n",
       "      <td>0</td>\n",
       "      <td>0</td>\n",
       "      <td>0</td>\n",
       "      <td>0</td>\n",
       "      <td>0</td>\n",
       "      <td>0</td>\n",
       "      <td>0</td>\n",
       "      <td>0</td>\n",
       "    </tr>\n",
       "    <tr>\n",
       "      <th>2</th>\n",
       "      <td>3500</td>\n",
       "      <td>1.0</td>\n",
       "      <td>1</td>\n",
       "      <td>996</td>\n",
       "      <td>9</td>\n",
       "      <td>7.0</td>\n",
       "      <td>3</td>\n",
       "      <td>1</td>\n",
       "      <td>0</td>\n",
       "      <td>0</td>\n",
       "      <td>0</td>\n",
       "      <td>0</td>\n",
       "      <td>0</td>\n",
       "      <td>0</td>\n",
       "      <td>0</td>\n",
       "    </tr>\n",
       "    <tr>\n",
       "      <th>3</th>\n",
       "      <td>1725</td>\n",
       "      <td>1.0</td>\n",
       "      <td>1</td>\n",
       "      <td>800</td>\n",
       "      <td>1</td>\n",
       "      <td>2.0</td>\n",
       "      <td>89</td>\n",
       "      <td>0</td>\n",
       "      <td>0</td>\n",
       "      <td>0</td>\n",
       "      <td>0</td>\n",
       "      <td>0</td>\n",
       "      <td>0</td>\n",
       "      <td>0</td>\n",
       "      <td>0</td>\n",
       "    </tr>\n",
       "    <tr>\n",
       "      <th>4</th>\n",
       "      <td>1700</td>\n",
       "      <td>1.0</td>\n",
       "      <td>1</td>\n",
       "      <td>730</td>\n",
       "      <td>10</td>\n",
       "      <td>3.0</td>\n",
       "      <td>7</td>\n",
       "      <td>0</td>\n",
       "      <td>0</td>\n",
       "      <td>0</td>\n",
       "      <td>0</td>\n",
       "      <td>0</td>\n",
       "      <td>0</td>\n",
       "      <td>0</td>\n",
       "      <td>0</td>\n",
       "    </tr>\n",
       "  </tbody>\n",
       "</table>\n",
       "</div>"
      ],
      "text/plain": [
       "   rent  bedrooms  bathrooms  size_sqft  min_to_subway  floor  \\\n",
       "0  3000       3.0          1       1000              4    1.0   \n",
       "1  1950       1.0          1        950              1    3.0   \n",
       "2  3500       1.0          1        996              9    7.0   \n",
       "3  1725       1.0          1        800              1    2.0   \n",
       "4  1700       1.0          1        730             10    3.0   \n",
       "\n",
       "   building_age_yrs  no_fee  has_roofdeck  has_washer_dryer  has_doorman  \\\n",
       "0               106       0             0                 0            0   \n",
       "1                83       0             0                 0            0   \n",
       "2                 3       1             0                 0            0   \n",
       "3                89       0             0                 0            0   \n",
       "4                 7       0             0                 0            0   \n",
       "\n",
       "   has_elevator  has_dishwasher  has_patio  has_gym  \n",
       "0             0               0          0        0  \n",
       "1             0               0          0        0  \n",
       "2             0               0          0        0  \n",
       "3             0               0          0        0  \n",
       "4             0               0          0        0  "
      ]
     },
     "execution_count": 33,
     "metadata": {},
     "output_type": "execute_result"
    }
   ],
   "source": [
    "df.head()"
   ]
  },
  {
   "cell_type": "code",
   "execution_count": 34,
   "metadata": {},
   "outputs": [
    {
     "data": {
      "text/plain": [
       "array([1250.        , 2333.33333333, 3416.66666667, 4500.        ])"
      ]
     },
     "execution_count": 34,
     "metadata": {},
     "output_type": "execute_result"
    }
   ],
   "source": [
    "# ubah nilai kontinyu ke diskrit\n",
    "group_names = ['Cheap', 'Normal', 'Expensive']\n",
    "bins = np.linspace(min(df.rent), max(df.rent), 4)\n",
    "bins"
   ]
  },
  {
   "cell_type": "code",
   "execution_count": 35,
   "metadata": {},
   "outputs": [
    {
     "data": {
      "text/html": [
       "<div>\n",
       "<style scoped>\n",
       "    .dataframe tbody tr th:only-of-type {\n",
       "        vertical-align: middle;\n",
       "    }\n",
       "\n",
       "    .dataframe tbody tr th {\n",
       "        vertical-align: top;\n",
       "    }\n",
       "\n",
       "    .dataframe thead th {\n",
       "        text-align: right;\n",
       "    }\n",
       "</style>\n",
       "<table border=\"1\" class=\"dataframe\">\n",
       "  <thead>\n",
       "    <tr style=\"text-align: right;\">\n",
       "      <th></th>\n",
       "      <th>rent</th>\n",
       "      <th>bedrooms</th>\n",
       "      <th>bathrooms</th>\n",
       "      <th>size_sqft</th>\n",
       "      <th>min_to_subway</th>\n",
       "      <th>floor</th>\n",
       "      <th>building_age_yrs</th>\n",
       "      <th>no_fee</th>\n",
       "      <th>has_roofdeck</th>\n",
       "      <th>has_washer_dryer</th>\n",
       "      <th>has_doorman</th>\n",
       "      <th>has_elevator</th>\n",
       "      <th>has_dishwasher</th>\n",
       "      <th>has_patio</th>\n",
       "      <th>has_gym</th>\n",
       "      <th>rent_category</th>\n",
       "    </tr>\n",
       "  </thead>\n",
       "  <tbody>\n",
       "    <tr>\n",
       "      <th>0</th>\n",
       "      <td>3000</td>\n",
       "      <td>3.0</td>\n",
       "      <td>1</td>\n",
       "      <td>1000</td>\n",
       "      <td>4</td>\n",
       "      <td>1.0</td>\n",
       "      <td>106</td>\n",
       "      <td>0</td>\n",
       "      <td>0</td>\n",
       "      <td>0</td>\n",
       "      <td>0</td>\n",
       "      <td>0</td>\n",
       "      <td>0</td>\n",
       "      <td>0</td>\n",
       "      <td>0</td>\n",
       "      <td>Normal</td>\n",
       "    </tr>\n",
       "    <tr>\n",
       "      <th>1</th>\n",
       "      <td>1950</td>\n",
       "      <td>1.0</td>\n",
       "      <td>1</td>\n",
       "      <td>950</td>\n",
       "      <td>1</td>\n",
       "      <td>3.0</td>\n",
       "      <td>83</td>\n",
       "      <td>0</td>\n",
       "      <td>0</td>\n",
       "      <td>0</td>\n",
       "      <td>0</td>\n",
       "      <td>0</td>\n",
       "      <td>0</td>\n",
       "      <td>0</td>\n",
       "      <td>0</td>\n",
       "      <td>Cheap</td>\n",
       "    </tr>\n",
       "    <tr>\n",
       "      <th>2</th>\n",
       "      <td>3500</td>\n",
       "      <td>1.0</td>\n",
       "      <td>1</td>\n",
       "      <td>996</td>\n",
       "      <td>9</td>\n",
       "      <td>7.0</td>\n",
       "      <td>3</td>\n",
       "      <td>1</td>\n",
       "      <td>0</td>\n",
       "      <td>0</td>\n",
       "      <td>0</td>\n",
       "      <td>0</td>\n",
       "      <td>0</td>\n",
       "      <td>0</td>\n",
       "      <td>0</td>\n",
       "      <td>Expensive</td>\n",
       "    </tr>\n",
       "    <tr>\n",
       "      <th>3</th>\n",
       "      <td>1725</td>\n",
       "      <td>1.0</td>\n",
       "      <td>1</td>\n",
       "      <td>800</td>\n",
       "      <td>1</td>\n",
       "      <td>2.0</td>\n",
       "      <td>89</td>\n",
       "      <td>0</td>\n",
       "      <td>0</td>\n",
       "      <td>0</td>\n",
       "      <td>0</td>\n",
       "      <td>0</td>\n",
       "      <td>0</td>\n",
       "      <td>0</td>\n",
       "      <td>0</td>\n",
       "      <td>Cheap</td>\n",
       "    </tr>\n",
       "    <tr>\n",
       "      <th>4</th>\n",
       "      <td>1700</td>\n",
       "      <td>1.0</td>\n",
       "      <td>1</td>\n",
       "      <td>730</td>\n",
       "      <td>10</td>\n",
       "      <td>3.0</td>\n",
       "      <td>7</td>\n",
       "      <td>0</td>\n",
       "      <td>0</td>\n",
       "      <td>0</td>\n",
       "      <td>0</td>\n",
       "      <td>0</td>\n",
       "      <td>0</td>\n",
       "      <td>0</td>\n",
       "      <td>0</td>\n",
       "      <td>Cheap</td>\n",
       "    </tr>\n",
       "  </tbody>\n",
       "</table>\n",
       "</div>"
      ],
      "text/plain": [
       "   rent  bedrooms  bathrooms  size_sqft  min_to_subway  floor  \\\n",
       "0  3000       3.0          1       1000              4    1.0   \n",
       "1  1950       1.0          1        950              1    3.0   \n",
       "2  3500       1.0          1        996              9    7.0   \n",
       "3  1725       1.0          1        800              1    2.0   \n",
       "4  1700       1.0          1        730             10    3.0   \n",
       "\n",
       "   building_age_yrs  no_fee  has_roofdeck  has_washer_dryer  has_doorman  \\\n",
       "0               106       0             0                 0            0   \n",
       "1                83       0             0                 0            0   \n",
       "2                 3       1             0                 0            0   \n",
       "3                89       0             0                 0            0   \n",
       "4                 7       0             0                 0            0   \n",
       "\n",
       "   has_elevator  has_dishwasher  has_patio  has_gym rent_category  \n",
       "0             0               0          0        0        Normal  \n",
       "1             0               0          0        0         Cheap  \n",
       "2             0               0          0        0     Expensive  \n",
       "3             0               0          0        0         Cheap  \n",
       "4             0               0          0        0         Cheap  "
      ]
     },
     "execution_count": 35,
     "metadata": {},
     "output_type": "execute_result"
    }
   ],
   "source": [
    "# buat variabel versi diskritnya\n",
    "df['rent_category'] = pd.cut(df.rent, bins, labels=group_names, include_lowest=True)\n",
    "\n",
    "df.head()"
   ]
  },
  {
   "cell_type": "code",
   "execution_count": 36,
   "metadata": {},
   "outputs": [
    {
     "data": {
      "text/plain": [
       "Cheap        210\n",
       "Normal       177\n",
       "Expensive     36\n",
       "Name: rent_category, dtype: int64"
      ]
     },
     "execution_count": 36,
     "metadata": {},
     "output_type": "execute_result"
    }
   ],
   "source": [
    "# cek jumlah nilainya\n",
    "df.rent_category.value_counts()"
   ]
  },
  {
   "cell_type": "code",
   "execution_count": 37,
   "metadata": {
    "tags": []
   },
   "outputs": [],
   "source": [
    "# pilih fitur sm labelnya\n",
    "x = df.iloc[:, 1:-1]\n",
    "y = df.iloc[:, -1]"
   ]
  },
  {
   "cell_type": "code",
   "execution_count": 38,
   "metadata": {},
   "outputs": [],
   "source": [
    "# bagi data training sm testing\n",
    "x_train, x_test, y_train, y_test = train_test_split(x, y, test_size=0.2, random_state=100)"
   ]
  },
  {
   "cell_type": "code",
   "execution_count": 39,
   "metadata": {},
   "outputs": [],
   "source": [
    "# normalisasi nilai fiturnya (wajib kalo ga error)\n",
    "scaler = StandardScaler()\n",
    "x_train = scaler.fit_transform(x_train)\n",
    "x_test = scaler.transform(x_test)"
   ]
  },
  {
   "cell_type": "code",
   "execution_count": 40,
   "metadata": {},
   "outputs": [
    {
     "data": {
      "text/plain": [
       "LogisticRegression()"
      ]
     },
     "execution_count": 40,
     "metadata": {},
     "output_type": "execute_result"
    }
   ],
   "source": [
    "# buat model dan latih\n",
    "clf = LogisticRegression()\n",
    "clf.fit(x_train, y_train)"
   ]
  },
  {
   "cell_type": "code",
   "execution_count": 41,
   "metadata": {},
   "outputs": [],
   "source": [
    "# prediksi\n",
    "y_pred = clf.predict(x_test)"
   ]
  },
  {
   "cell_type": "code",
   "execution_count": 42,
   "metadata": {},
   "outputs": [
    {
     "data": {
      "text/plain": [
       "<AxesSubplot:>"
      ]
     },
     "execution_count": 42,
     "metadata": {},
     "output_type": "execute_result"
    },
    {
     "data": {
      "image/png": "[encoded data removed]",
      "text/plain": [
       "<Figure size 432x288 with 2 Axes>"
      ]
     },
     "metadata": {
      "needs_background": "light"
     },
     "output_type": "display_data"
    }
   ],
   "source": [
    "# visualisasiin nilai sebenarnya dan prediksi\n",
    "sns.heatmap(\n",
    "    confusion_matrix(y_test, y_pred),\n",
    "    annot = True,\n",
    "    xticklabels=sorted(group_names),\n",
    "    yticklabels=sorted(group_names),\n",
    "    cmap='viridis'\n",
    ")"
   ]
  },
  {
   "cell_type": "markdown",
   "metadata": {},
   "source": [
    "## Evaluation"
   ]
  },
  {
   "cell_type": "code",
   "execution_count": 43,
   "metadata": {},
   "outputs": [
    {
     "name": "stdout",
     "output_type": "stream",
     "text": [
      "Train score: 0.7781065088757396\n",
      "Test score: 0.7411764705882353\n"
     ]
    }
   ],
   "source": [
    "print(f\"Train score: {clf.score(x_train, y_train)}\")\n",
    "print(f\"Test score: {clf.score(x_test, y_test)}\")"
   ]
  },
  {
   "cell_type": "code",
   "execution_count": 44,
   "metadata": {
    "tags": []
   },
   "outputs": [
    {
     "name": "stdout",
     "output_type": "stream",
     "text": [
      "(Precision, Recall, F1 Score): (0.7029624753127056, 0.6416666666666667, 0.663133556750578)\n"
     ]
    }
   ],
   "source": [
    "print(f\"(Precision, Recall, F1 Score): {precision_recall_fscore_support(y_test, y_pred, average='macro')[:-1]}\")"
   ]
  }
 ],
 "metadata": {
  "kernelspec": {
   "display_name": "Python 3",
   "language": "python",
   "name": "python3"
  },
  "language_info": {
   "codemirror_mode": {
    "name": "ipython",
    "version": 3
   },
   "file_extension": ".py",
   "mimetype": "text/x-python",
   "name": "python",
   "nbconvert_exporter": "python",
   "pygments_lexer": "ipython3",
   "version": "3.7.4"
  }
 },
 "nbformat": 4,
 "nbformat_minor": 5
}
